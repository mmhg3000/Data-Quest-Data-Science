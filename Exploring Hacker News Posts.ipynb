{
 "cells": [
  {
   "cell_type": "markdown",
   "metadata": {
    "collapsed": true
   },
   "source": [
    "# Exploring Hacker News Posts\n",
    "\n",
    "[Hacker News](https://news.ycombinator.com/) is a site started by the startup incubator [Y Combinator](https://www.ycombinator.com/), where user-submitted stories (known as \"posts\") are voted and commented upon, similar to reddit. Hacker News is extremely popular in technology and startup circles, and posts that make it to the top of Hacker News' listings can get hundreds of thousands of visitors as a result.\n",
    "\n",
    "In this Project, a data set spanning 12 months will be analyzed.\n",
    "\n",
    "The data set has been reduced from almost 300,000 rows to approximately 20,000 rows by removing all submissions that did not receive any comments, and then randomly sampling from the remaining submissions. Below are descriptions of the columns:\n",
    "\n",
    "- id: The unique identifier from Hacker News for the post\n",
    "- title: The title of the post\n",
    "- url: The URL that the posts links to, if it the post has a URL\n",
    "- num_points: The number of points the post acquired, calculated as the total number of upvotes minus the total number of downvotes\n",
    "- num_comments: The number of comments that were made on the post\n",
    "- author: The username of the person who submitted the post\n",
    "- created_at: The date and time at which the post was submitted\n",
    "\n",
    "We're specifically interested in posts whose titles begin with either Ask HN or `Show HN`. Users submit `Ask HN` posts to ask the Hacker News community a specific question. Example:\n",
    "```\n",
    "Ask HN: How to improve my personal website?\n",
    "Ask HN: Am I the only one outraged by Twitter shutting down share counts?\n",
    "Ask HN: Aby recent changes to CSS that broke mobile?\n",
    "```\n",
    "\n",
    "Likewise, users submit `Show HN` posts to show the Hacker News community a project, product, or just generally something interesting. Example:\n",
    "```\n",
    "Show HN: Wio Link  ESP8266 Based Web of Things Hardware Development Platform'\n",
    "Show HN: Something pointless I made\n",
    "Show HN: Shanhu.io, a programming playground powered by e8vm\n",
    "```\n",
    "\n",
    "We'll compare these two types of posts to determine the following:\n",
    "- Do Ask HN or Show HN receive more comments on average?\n",
    "- Do posts created at a certain time receive more comments on average?\n",
    "\n",
    "### Let's start by importing the libraries we need and reading the data set into a list of lists."
   ]
  },
  {
   "cell_type": "code",
   "execution_count": 1,
   "metadata": {
    "collapsed": false
   },
   "outputs": [
    {
     "name": "stdout",
     "output_type": "stream",
     "text": [
      "[['id', 'title', 'url', 'num_points', 'num_comments', 'author', 'created_at'], ['12224879', 'Interactive Dynamic Video', 'http://www.interactivedynamicvideo.com/', '386', '52', 'ne0phyte', '8/4/2016 11:52'], ['10975351', 'How to Use Open Source and Shut the Fuck Up at the Same Time', 'http://hueniverse.com/2016/01/26/how-to-use-open-source-and-shut-the-fuck-up-at-the-same-time/', '39', '10', 'josep2', '1/26/2016 19:30'], ['11964716', \"Florida DJs May Face Felony for April Fools' Water Joke\", 'http://www.thewire.com/entertainment/2013/04/florida-djs-april-fools-water-joke/63798/', '2', '1', 'vezycash', '6/23/2016 22:20'], ['11919867', 'Technology ventures: From Idea to Enterprise', 'https://www.amazon.com/Technology-Ventures-Enterprise-Thomas-Byers/dp/0073523429', '3', '1', 'hswarna', '6/17/2016 0:01']]\n"
     ]
    }
   ],
   "source": [
    "from csv import reader\n",
    "open_file = open('hacker_news.csv')\n",
    "read_file = reader(open_file)\n",
    "hn = list(read_file)\n",
    "\n",
    "print(hn[:5])"
   ]
  },
  {
   "cell_type": "code",
   "execution_count": 2,
   "metadata": {
    "collapsed": false
   },
   "outputs": [
    {
     "name": "stdout",
     "output_type": "stream",
     "text": [
      "Total number of posts: 20100 \n",
      "\n",
      "[['id', 'title', 'url', 'num_points', 'num_comments', 'author', 'created_at']] \n",
      "\n",
      "--------------------------------------------------------------------------- \n",
      "\n",
      "['12224879', 'Interactive Dynamic Video', 'http://www.interactivedynamicvideo.com/', '386', '52', 'ne0phyte', '8/4/2016 11:52'] \n",
      "\n",
      "['10975351', 'How to Use Open Source and Shut the Fuck Up at the Same Time', 'http://hueniverse.com/2016/01/26/how-to-use-open-source-and-shut-the-fuck-up-at-the-same-time/', '39', '10', 'josep2', '1/26/2016 19:30'] \n",
      "\n",
      "['11964716', \"Florida DJs May Face Felony for April Fools' Water Joke\", 'http://www.thewire.com/entertainment/2013/04/florida-djs-april-fools-water-joke/63798/', '2', '1', 'vezycash', '6/23/2016 22:20'] \n",
      "\n",
      "['11919867', 'Technology ventures: From Idea to Enterprise', 'https://www.amazon.com/Technology-Ventures-Enterprise-Thomas-Byers/dp/0073523429', '3', '1', 'hswarna', '6/17/2016 0:01'] \n",
      "\n",
      "['10301696', 'Note by Note: The Making of Steinway L1037 (2007)', 'http://www.nytimes.com/2007/11/07/movies/07stein.html?_r=0', '8', '2', 'walterbell', '9/30/2015 4:12'] \n",
      "\n"
     ]
    }
   ],
   "source": [
    "headers = hn[:1] #extract header\n",
    "hn = hn[1:]      #delete header in hn list\n",
    "print('Total number of posts:',len(hn),'\\n')\n",
    "print(headers, '\\n')\n",
    "print('-' * 75,'\\n')\n",
    "for post in hn[0:5]:\n",
    "    print(post,'\\n')"
   ]
  },
  {
   "cell_type": "markdown",
   "metadata": {},
   "source": [
    "# Data filtering\n",
    "\n",
    "As explained in the beginning of the project, we're only concerned with post titles beginning with `Ask HN` or `Show HN`\n",
    "\n",
    "In the section below, we will seperate the posts in the data set on that basis.\n",
    "\n",
    "- `ask_posts`: List of data containing only the Ask HN posts\n",
    "- `show_posts`: List of data containing only the Show HN posts\n",
    "- `other_posts`: List of data containing posts other than the above two\n",
    "\n"
   ]
  },
  {
   "cell_type": "code",
   "execution_count": 3,
   "metadata": {
    "collapsed": false
   },
   "outputs": [
    {
     "name": "stdout",
     "output_type": "stream",
     "text": [
      "Number of Ask HN posts: 1744\n",
      "Number of Show HN posts: 1162\n",
      "Number of Other HN posts: 17194\n"
     ]
    }
   ],
   "source": [
    "ask_posts = []\n",
    "show_posts = []\n",
    "other_posts = []\n",
    "\n",
    "for row in hn:\n",
    "    title = row[1]\n",
    "    title = title.lower()\n",
    "    if title.startswith('ask hn'):\n",
    "        ask_posts.append(row)\n",
    "    elif title.startswith('show hn'):\n",
    "        show_posts.append(row)\n",
    "    else:\n",
    "        other_posts.append(row)\n",
    "\n",
    "print('Number of Ask HN posts:',len(ask_posts))\n",
    "print('Number of Show HN posts:',len(show_posts))\n",
    "print('Number of Other HN posts:',len(other_posts))"
   ]
  },
  {
   "cell_type": "markdown",
   "metadata": {},
   "source": [
    "# Data analysis\n",
    "### Step 1: Comments - Ask HN vs Show HN posts"
   ]
  },
  {
   "cell_type": "code",
   "execution_count": 4,
   "metadata": {
    "collapsed": false
   },
   "outputs": [
    {
     "name": "stdout",
     "output_type": "stream",
     "text": [
      "Total ask comments: 24483\n",
      "Average number of comments on ask posts 14.038417431192661\n",
      "Total show comments: 11988\n",
      "Average number of comments on show posts 10.31669535283993\n",
      "Ratio of ask posts to show posts 1.5008605851979346\n"
     ]
    }
   ],
   "source": [
    "total_ask_comments = 0\n",
    "for row in ask_posts:\n",
    "    num_comments = int(row[4])\n",
    "    total_ask_comments += num_comments\n",
    "print('Total ask comments:',total_ask_comments)\n",
    "avg_ask_comments = total_ask_comments / len(ask_posts)\n",
    "print('Average number of comments on ask posts',avg_ask_comments)\n",
    "\n",
    "total_show_comments = 0\n",
    "for row in show_posts:\n",
    "    num_comments = int(row[4])\n",
    "    total_show_comments += num_comments\n",
    "print('Total show comments:',total_show_comments)\n",
    "avg_show_comments = total_show_comments / len(show_posts)\n",
    "print('Average number of comments on show posts',avg_show_comments)\n",
    "ratio_ask_show_posts = len(ask_posts) / len(show_posts)\n",
    "print('Ratio of ask posts to show posts',ratio_ask_show_posts)"
   ]
  },
  {
   "cell_type": "markdown",
   "metadata": {},
   "source": [
    "##### Discussion\n",
    "> Even though there are about 1.5 as many ask posts than show posts, on average the ask posts receive more comments than the show posts.\n",
    "This can be attributed to the much higher number of total ask comments (24,483) compared to the show comments (11,988).\n",
    "\n",
    "### Step 2: Analyse the number of posts and total comments by the hour created\n",
    "We will now see the number of posts made and total number of comments received based on the hour of the day the post was created (Based on the `created_at column`).\n",
    "\n",
    "**Note:** According to the data set documentation, the timezone used is Eastern Time in the US.\n",
    "\n",
    "Next, we'll determine if ask posts created at a certain time are more likely to attract comments. We'll use the following steps to perform this analysis:\n",
    "\n",
    "1. Calculate the amount of ask posts created in each hour of the day, along with the number of comments received.\n",
    "2. Calculate the average number of comments ask posts receive by hour created.\n",
    "\n",
    "Let's calculate the amount of ask posts created per hour, along with the total amount of comments first:"
   ]
  },
  {
   "cell_type": "code",
   "execution_count": 5,
   "metadata": {
    "collapsed": false
   },
   "outputs": [
    {
     "name": "stdout",
     "output_type": "stream",
     "text": [
      "Amount of ask posts created each hour: \n",
      " {'16': 108, '23': 68, '20': 80, '15': 116, '06': 44, '00': 55, '13': 85, '18': 109, '05': 46, '09': 45, '02': 58, '14': 107, '01': 60, '04': 47, '07': 34, '03': 54, '10': 59, '08': 48, '11': 58, '17': 100, '12': 73, '21': 109, '19': 110, '22': 71} \n",
      "\n",
      "Amount of comments created each hour: \n",
      " {'16': 1814, '23': 543, '20': 1722, '15': 4477, '06': 397, '00': 447, '13': 1253, '18': 1439, '05': 464, '09': 251, '02': 1381, '14': 1416, '01': 683, '04': 337, '07': 267, '03': 421, '10': 793, '08': 492, '11': 641, '17': 1146, '12': 687, '21': 1745, '19': 1188, '22': 479}\n"
     ]
    }
   ],
   "source": [
    "import datetime as dt\n",
    "\n",
    "result_list = []\n",
    "\n",
    "for row in ask_posts:\n",
    "    created_at = row[6]\n",
    "    num_comments = int(row[4])\n",
    "    result_list.append([created_at, num_comments])\n",
    "\n",
    "counts_by_hour = {}\n",
    "comments_by_hour = {}\n",
    "\n",
    "for row in result_list:\n",
    "    date_time = row[0]\n",
    "    num_comments = row[1]\n",
    "    dt_object = dt.datetime.strptime(date_time, '%m/%d/%Y %H:%M')\n",
    "    #hour = dt_object.hour #this method would extract the hour not as string\n",
    "    hour = dt_object.strftime(\"%H\")\n",
    "    if hour not in counts_by_hour:\n",
    "        counts_by_hour[hour] = 1\n",
    "        comments_by_hour[hour] = row[1]\n",
    "    else:\n",
    "        counts_by_hour[hour] += 1\n",
    "        comments_by_hour[hour] += row[1]\n",
    "        \n",
    "print('Amount of ask posts created each hour:','\\n',counts_by_hour,'\\n')\n",
    "print('Amount of comments created each hour:','\\n',comments_by_hour)"
   ]
  },
  {
   "cell_type": "markdown",
   "metadata": {},
   "source": [
    "Above, we created two dictionaries and displayed them:\n",
    "\n",
    "- `counts_by_hour`: contains the number of ask posts created during each hour of the day.\n",
    "- `comments_by_hour`: contains the corresponding number of comments ask posts created at each hour received.\n",
    "\n",
    "Right now, we'll use those two dictionaries to calculate the average number of comments for posts created during each hour of the day."
   ]
  },
  {
   "cell_type": "code",
   "execution_count": 6,
   "metadata": {
    "collapsed": false
   },
   "outputs": [
    {
     "name": "stdout",
     "output_type": "stream",
     "text": [
      "[['16', 16.796296296296298], ['23', 7.985294117647059], ['20', 21.525], ['15', 38.5948275862069], ['06', 9.022727272727273], ['00', 8.127272727272727], ['13', 14.741176470588234], ['18', 13.20183486238532], ['05', 10.08695652173913], ['09', 5.5777777777777775], ['02', 23.810344827586206], ['14', 13.233644859813085], ['01', 11.383333333333333], ['04', 7.170212765957447], ['07', 7.852941176470588], ['03', 7.796296296296297], ['10', 13.440677966101696], ['08', 10.25], ['11', 11.051724137931034], ['17', 11.46], ['12', 9.41095890410959], ['21', 16.009174311926607], ['19', 10.8], ['22', 6.746478873239437]]\n"
     ]
    }
   ],
   "source": [
    "avg_by_hour = []\n",
    "\n",
    "for row in comments_by_hour:\n",
    "    avg_by_hour.append([row, comments_by_hour[row] / counts_by_hour[row]])\n",
    "    \n",
    "print(avg_by_hour)"
   ]
  },
  {
   "cell_type": "markdown",
   "metadata": {},
   "source": [
    "Although we now have the results we need, this format makes it hard to identify the hours with the highest values. Let's finish by sorting the list of lists and printing the five highest values in a format that's easier to read."
   ]
  },
  {
   "cell_type": "code",
   "execution_count": 12,
   "metadata": {
    "collapsed": false
   },
   "outputs": [
    {
     "name": "stdout",
     "output_type": "stream",
     "text": [
      "[[38.5948275862069, '15'], [23.810344827586206, '02'], [21.525, '20'], [16.796296296296298, '16'], [16.009174311926607, '21'], [14.741176470588234, '13'], [13.440677966101696, '10'], [13.233644859813085, '14'], [13.20183486238532, '18'], [11.46, '17'], [11.383333333333333, '01'], [11.051724137931034, '11'], [10.8, '19'], [10.25, '08'], [10.08695652173913, '05'], [9.41095890410959, '12'], [9.022727272727273, '06'], [8.127272727272727, '00'], [7.985294117647059, '23'], [7.852941176470588, '07'], [7.796296296296297, '03'], [7.170212765957447, '04'], [6.746478873239437, '22'], [5.5777777777777775, '09']]\n"
     ]
    }
   ],
   "source": [
    "swap_avg_by_hour = []\n",
    "\n",
    "for row in avg_by_hour:\n",
    "    swap_avg_by_hour.append([row[1], row[0]])\n",
    "\n",
    "#print(swap_avg_by_hour)\n",
    "\n",
    "sorted_swap = sorted(swap_avg_by_hour, reverse=True)\n",
    "print(sorted_swap)"
   ]
  },
  {
   "cell_type": "code",
   "execution_count": 17,
   "metadata": {
    "collapsed": false
   },
   "outputs": [
    {
     "name": "stdout",
     "output_type": "stream",
     "text": [
      "Top 5 Hours for Ask Posts Comments\n",
      "15:00: 38.59 average comments per posts\n",
      "02:00: 23.81 average comments per posts\n",
      "20:00: 21.52 average comments per posts\n",
      "16:00: 16.80 average comments per posts\n",
      "21:00: 16.01 average comments per posts\n"
     ]
    }
   ],
   "source": [
    "print('Top 5 Hours for Ask Posts Comments')\n",
    "#for average, hour in sorted_swap[:5]:\n",
    "#    output = '{h}:00: {a:.2f} average comments per post'.format(h=hour, a=average)\n",
    "#    print(output)\n",
    "hour_format = \"%H:%M\"    # the format we want the time to take\n",
    "for row in sorted_swap[:5]:\n",
    "    avg = row[0]\n",
    "    hour = str(row[1])   # converts the hours to string format\n",
    "    \n",
    "    hour = dt.datetime.strptime(hour, \"%H\")  # parses the hours as a datetime object\n",
    "    hour = hour.strftime(hour_format)        # specifies the format of the time\n",
    "    \n",
    "    # uses the format to print the hour and average\n",
    "    hour_avg_string = \"{h}: {a:.2f} average comments per posts\".format(h=hour, a=avg)\n",
    "    print(hour_avg_string)   # displays the top 5 hours according to the average comments"
   ]
  },
  {
   "cell_type": "markdown",
   "metadata": {},
   "source": [
    "**Note:** According to the data set documentation, the timezone used is Eastern Time in the US.\n",
    "\n",
    "Therefore, if one lives in the **Eastern Time Zone in the US**, one should post around 15:00 to have a higher chance of receiving comments.\n",
    "\n",
    "If one lives in **Vienna, Austria**, one should therefore post around 21:00 to have a higher chance of receiving comments.\n",
    "\n",
    "\n",
    "\n",
    "# Conclusion\n",
    "\n",
    "Our primary aim in this analysis was to determine the best time to send posts on the [Hacker News platform](https://news.ycombinator.com/). This became necessary because most users become frustrated and disappointed when their questions go unanswered. We believe the understanding of a platform and the activity of its users is paramount to the attraction engagement/attention to a post.\n",
    "\n",
    "Therefore, we analyzed the average comments received by posts sent within each hour to determine the hours that has the most comments per post. In our result we found that:\n",
    "\n",
    "- Ask posts (i.e. posts that come in form of questions) generally has more average number of comments more that Show posts.\n",
    "- Posts sent within the hour of 15:00 (US Eastern Time) has the most engagement in form of comments.\n",
    "\n",
    "We can therefore suggest that users should send their posts within this hour in order for their posts to receive highest attention.\n",
    "\n",
    "\n",
    "### Limitations\n",
    "\n",
    "In this analysis, we did not:\n",
    "\n",
    "- determine the hours the comments received by the posts were sent (this might be necessary to understand the time interval between the time the posts were created and the time the comments were received)\n",
    "- determine the average number of points received by the posts\n"
   ]
  }
 ],
 "metadata": {
  "kernelspec": {
   "display_name": "Python 3",
   "language": "python",
   "name": "python3"
  },
  "language_info": {
   "codemirror_mode": {
    "name": "ipython",
    "version": 3
   },
   "file_extension": ".py",
   "mimetype": "text/x-python",
   "name": "python",
   "nbconvert_exporter": "python",
   "pygments_lexer": "ipython3",
   "version": "3.4.3"
  }
 },
 "nbformat": 4,
 "nbformat_minor": 2
}
